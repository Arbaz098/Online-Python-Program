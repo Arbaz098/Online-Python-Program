{
 "cells": [
  {
   "cell_type": "code",
   "execution_count": 1,
   "id": "e5084fa9",
   "metadata": {},
   "outputs": [],
   "source": [
    "# Write a Python program to get the largest number from a numeric list. "
   ]
  },
  {
   "cell_type": "code",
   "execution_count": 2,
   "id": "c542e043",
   "metadata": {},
   "outputs": [
    {
     "name": "stdout",
     "output_type": "stream",
     "text": [
      "54 is the highest number in the list\n"
     ]
    }
   ],
   "source": [
    "l1=[1,4,8,6,3,54]\n",
    "if l1[0]>l1[1]:\n",
    "    n1=l1[0]\n",
    "else:\n",
    "    n1=l1[1]\n",
    "    \n",
    "if l1[2]>l1[3]:\n",
    "    n2=l1[2]\n",
    "else:\n",
    "    n2=l1[3]\n",
    "\n",
    "if l1[4]>l1[5]:\n",
    "    n3=l1[4]\n",
    "else:\n",
    "    n3=l1[5]\n",
    "    \n",
    "if n1>(n2 and n3):\n",
    "    print(n1,\"is the highest number in the list\")\n",
    "elif n2>(n1 and n3):\n",
    "    print(n1,\"is the highest number in the list\")\n",
    "else:\n",
    "    print(n3,\"is the highest number in the list\")"
   ]
  },
  {
   "cell_type": "code",
   "execution_count": null,
   "id": "62dc6789",
   "metadata": {},
   "outputs": [],
   "source": []
  }
 ],
 "metadata": {
  "kernelspec": {
   "display_name": "Python 3",
   "language": "python",
   "name": "python3"
  },
  "language_info": {
   "codemirror_mode": {
    "name": "ipython",
    "version": 3
   },
   "file_extension": ".py",
   "mimetype": "text/x-python",
   "name": "python",
   "nbconvert_exporter": "python",
   "pygments_lexer": "ipython3",
   "version": "3.8.8"
  }
 },
 "nbformat": 4,
 "nbformat_minor": 5
}
