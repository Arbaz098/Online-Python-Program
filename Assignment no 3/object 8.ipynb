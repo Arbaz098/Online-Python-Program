{
 "cells": [
  {
   "cell_type": "code",
   "execution_count": 1,
   "id": "589649f1",
   "metadata": {},
   "outputs": [],
   "source": [
    "#  Write a program which take input from user and identify that the given number is even \n",
    "# or odd?"
   ]
  },
  {
   "cell_type": "code",
   "execution_count": 2,
   "id": "d213fc95",
   "metadata": {},
   "outputs": [
    {
     "name": "stdout",
     "output_type": "stream",
     "text": [
      "Enter The Num Here:  7\n",
      "The Num is Odd\n"
     ]
    }
   ],
   "source": [
    "num=int(input(\"Enter The Num Here:  \"))\n",
    "if num%2==0:\n",
    "    print(\"The Num is Even\")\n",
    "else:\n",
    "    print(\"The Num is Odd\")"
   ]
  },
  {
   "cell_type": "code",
   "execution_count": null,
   "id": "8d382e2e",
   "metadata": {},
   "outputs": [],
   "source": []
  }
 ],
 "metadata": {
  "kernelspec": {
   "display_name": "Python 3",
   "language": "python",
   "name": "python3"
  },
  "language_info": {
   "codemirror_mode": {
    "name": "ipython",
    "version": 3
   },
   "file_extension": ".py",
   "mimetype": "text/x-python",
   "name": "python",
   "nbconvert_exporter": "python",
   "pygments_lexer": "ipython3",
   "version": "3.8.8"
  }
 },
 "nbformat": 4,
 "nbformat_minor": 5
}
