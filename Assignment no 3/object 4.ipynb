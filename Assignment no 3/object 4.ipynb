{
 "cells": [
  {
   "cell_type": "code",
   "execution_count": 1,
   "id": "83e47a5d",
   "metadata": {},
   "outputs": [],
   "source": [
    "# Write a Python program which accepts the radius of a circle from the user and compute \n",
    "# the area."
   ]
  },
  {
   "cell_type": "code",
   "execution_count": 2,
   "id": "65569d0c",
   "metadata": {},
   "outputs": [
    {
     "name": "stdout",
     "output_type": "stream",
     "text": [
      "Enter The Radius Of Circle:   14.8\n",
      "688.2236800000001 m2\n"
     ]
    }
   ],
   "source": [
    "r=float(input(\"Enter The Radius Of Circle:   \"))\n",
    "area=3.142*r**2\n",
    "print(area,\"m2\")"
   ]
  },
  {
   "cell_type": "code",
   "execution_count": null,
   "id": "2c27350f",
   "metadata": {},
   "outputs": [],
   "source": []
  }
 ],
 "metadata": {
  "kernelspec": {
   "display_name": "Python 3",
   "language": "python",
   "name": "python3"
  },
  "language_info": {
   "codemirror_mode": {
    "name": "ipython",
    "version": 3
   },
   "file_extension": ".py",
   "mimetype": "text/x-python",
   "name": "python",
   "nbconvert_exporter": "python",
   "pygments_lexer": "ipython3",
   "version": "3.8.8"
  }
 },
 "nbformat": 4,
 "nbformat_minor": 5
}
