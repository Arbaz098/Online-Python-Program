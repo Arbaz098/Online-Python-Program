{
 "cells": [
  {
   "cell_type": "code",
   "execution_count": 1,
   "id": "3060f878",
   "metadata": {},
   "outputs": [],
   "source": [
    "# Write a program which takes 5 inputs from user for different subject’s marks, total it \n",
    "# and generate mark sheet using grades ? "
   ]
  },
  {
   "cell_type": "code",
   "execution_count": 10,
   "id": "dc0cfbea",
   "metadata": {},
   "outputs": [
    {
     "name": "stdout",
     "output_type": "stream",
     "text": [
      "Enter Marks of English Here :65\n",
      "Enter Marks of Urdu Here :43\n",
      "Enter Marks of Math Here :23\n",
      "Enter Marks of Physics Here :76\n",
      "Enter Marks of Chemistry Here :87\n",
      "You got C Grade\n"
     ]
    }
   ],
   "source": [
    "English=int(input(\"Enter Marks of English Here :\"))\n",
    "Urdu=int(input(\"Enter Marks of Urdu Here :\"))\n",
    "Math=int(input(\"Enter Marks of Math Here :\"))\n",
    "Physics=int(input(\"Enter Marks of Physics Here :\"))\n",
    "Chemistry=int(input(\"Enter Marks of Chemistry Here :\"))\n",
    "obtained=English+Urdu+Math+Physics+Chemistry\n",
    "per=obtained*0.2\n",
    "if per >= 80:\n",
    "    print(\"You got A+ Grade\")\n",
    "elif per >= 70 and per<= 79:\n",
    "    print(\"You got A Grade\")\n",
    "elif per >= 60 and per<= 69:\n",
    "    print(\"You got B Grade\")\n",
    "elif per >= 50 and per<= 59:\n",
    "    print(\"You got C Grade\")\n",
    "elif per >= 33 and per<= 49:\n",
    "    print(\"You got D Grade\")\n",
    "else:\n",
    "    print(\"You Are Failed\")"
   ]
  },
  {
   "cell_type": "code",
   "execution_count": null,
   "id": "58ca1ad7",
   "metadata": {},
   "outputs": [],
   "source": []
  }
 ],
 "metadata": {
  "kernelspec": {
   "display_name": "Python 3",
   "language": "python",
   "name": "python3"
  },
  "language_info": {
   "codemirror_mode": {
    "name": "ipython",
    "version": 3
   },
   "file_extension": ".py",
   "mimetype": "text/x-python",
   "name": "python",
   "nbconvert_exporter": "python",
   "pygments_lexer": "ipython3",
   "version": "3.8.8"
  }
 },
 "nbformat": 4,
 "nbformat_minor": 5
}
