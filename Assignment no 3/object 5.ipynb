{
 "cells": [
  {
   "cell_type": "code",
   "execution_count": 1,
   "id": "7be78fea",
   "metadata": {},
   "outputs": [],
   "source": [
    "# Write a Python program which accepts the user's first and last name and print them in \n",
    "# reverse order with a space between them. "
   ]
  },
  {
   "cell_type": "code",
   "execution_count": 3,
   "id": "4d9918b8",
   "metadata": {},
   "outputs": [
    {
     "name": "stdout",
     "output_type": "stream",
     "text": [
      "Enter Your First Name Here:  Arbaz\n",
      "Enter Your Last Name Here:  Aslam\n",
      "Aslam Arbaz\n"
     ]
    }
   ],
   "source": [
    "first_name=input(\"Enter Your First Name Here:  \")\n",
    "last_name=input(\"Enter Your Last Name Here:  \")\n",
    "print(last_name+\" \"+first_name)"
   ]
  },
  {
   "cell_type": "code",
   "execution_count": null,
   "id": "85940777",
   "metadata": {},
   "outputs": [],
   "source": []
  }
 ],
 "metadata": {
  "kernelspec": {
   "display_name": "Python 3",
   "language": "python",
   "name": "python3"
  },
  "language_info": {
   "codemirror_mode": {
    "name": "ipython",
    "version": 3
   },
   "file_extension": ".py",
   "mimetype": "text/x-python",
   "name": "python",
   "nbconvert_exporter": "python",
   "pygments_lexer": "ipython3",
   "version": "3.8.8"
  }
 },
 "nbformat": 4,
 "nbformat_minor": 5
}
