{
 "cells": [
  {
   "cell_type": "code",
   "execution_count": 1,
   "id": "44575369",
   "metadata": {},
   "outputs": [],
   "source": [
    "#  Write a python program which takes two inputs from user and print them addition"
   ]
  },
  {
   "cell_type": "code",
   "execution_count": 3,
   "id": "d948a679",
   "metadata": {},
   "outputs": [
    {
     "name": "stdout",
     "output_type": "stream",
     "text": [
      "Enter Your First Num Here:  5\n",
      "Enter Your Second Num Here:  98\n",
      "103.0\n"
     ]
    }
   ],
   "source": [
    "num1=float(input(\"Enter Your First Num Here:  \"))\n",
    "num2=float(input(\"Enter Your Second Num Here:  \"))\n",
    "sum=num1+num2\n",
    "print(sum)"
   ]
  },
  {
   "cell_type": "code",
   "execution_count": null,
   "id": "c5132ee6",
   "metadata": {},
   "outputs": [],
   "source": []
  }
 ],
 "metadata": {
  "kernelspec": {
   "display_name": "Python 3",
   "language": "python",
   "name": "python3"
  },
  "language_info": {
   "codemirror_mode": {
    "name": "ipython",
    "version": 3
   },
   "file_extension": ".py",
   "mimetype": "text/x-python",
   "name": "python",
   "nbconvert_exporter": "python",
   "pygments_lexer": "ipython3",
   "version": "3.8.8"
  }
 },
 "nbformat": 4,
 "nbformat_minor": 5
}
